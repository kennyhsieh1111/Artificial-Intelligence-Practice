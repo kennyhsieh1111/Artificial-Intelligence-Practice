{
 "cells": [
  {
   "cell_type": "markdown",
   "metadata": {},
   "source": [
    "# Artificial Intelligence Homework 3\n",
    "Dec 17 - 21, 2017\n",
    "\n",
    "Use Hill Climbing(HC), Simulated Annealing(SA) and Genetic Algorithm(GA) to optimizing the following function.\n",
    "\n",
    "$$f(x_1, x_2) = 21.5 + x_1 \\, sin(4\\pi x_1)+x_2 \\, sin(20\\pi x_2)$$\n",
    "\n",
    "$$where\\,-3.0 \\le x_1 \\le 12.1 \\, and \\, 4.1 \\le x_2 \\le 5.8$$\n",
    "\n",
    "required precision is six places after the decimal points.\n",
    "\n",
    "Reports must include:\n",
    "- Result comparision for the above three optimization methods\n",
    "- For GA, you need\n",
    "    - the fitness curves (best and average of each generation and best-so-far)\n",
    "    - the effects of population size, generation number, selection scheme, and genetic operator\n",
    "    - a section of disscusion"
   ]
  },
  {
   "cell_type": "markdown",
   "metadata": {},
   "source": [
    "# Genetic Algorithm (GA)\n",
    "### Implement\n",
    "- Using **[GAFT](https://github.com/PytLab/gaft)**, the Python Framwork for genetic algorithm computation.\n",
    "- Discussion\n",
    "    - Population Size\n",
    "        - range from large to small\n",
    "    - Generation Size\n",
    "        - observe the plot\n",
    "    - Selection Scheme\n",
    "        - Proportionate Roulette Wheel Selection\n",
    "        - Tournament Selection\n",
    "        - Linear Ranking Selection\n",
    "        - Exponential Ranking Selection\n",
    "        - http://pytlab.org/2017/09/19/遗传算法中几种不同选择算子的比较/\n",
    "    - Genetic Operator    "
   ]
  },
  {
   "cell_type": "code",
   "execution_count": 49,
   "metadata": {
    "scrolled": true
   },
   "outputs": [
    {
     "name": "stdout",
     "output_type": "stream",
     "text": [
      "gaft.ConsoleOutput   INFO     Generation number: 70 Population number: 50\n",
      "gaft.ConsoleOutput   INFO     Generation: 1, best fitness: 32.006, scaled fitness: 32.006\n",
      "gaft.ConsoleOutput   INFO     Generation: 2, best fitness: 32.006, scaled fitness: 32.006\n",
      "gaft.ConsoleOutput   INFO     Generation: 3, best fitness: 32.396, scaled fitness: 32.396\n",
      "gaft.ConsoleOutput   INFO     Generation: 4, best fitness: 33.451, scaled fitness: 33.451\n",
      "gaft.ConsoleOutput   INFO     Generation: 5, best fitness: 33.451, scaled fitness: 33.451\n",
      "gaft.ConsoleOutput   INFO     Generation: 6, best fitness: 33.451, scaled fitness: 33.451\n",
      "gaft.ConsoleOutput   INFO     Generation: 7, best fitness: 33.451, scaled fitness: 33.451\n",
      "gaft.ConsoleOutput   INFO     Generation: 8, best fitness: 33.451, scaled fitness: 33.451\n",
      "gaft.ConsoleOutput   INFO     Generation: 9, best fitness: 36.245, scaled fitness: 36.245\n",
      "gaft.ConsoleOutput   INFO     Generation: 10, best fitness: 36.881, scaled fitness: 36.881\n",
      "gaft.ConsoleOutput   INFO     Generation: 11, best fitness: 36.881, scaled fitness: 36.881\n",
      "gaft.ConsoleOutput   INFO     Generation: 12, best fitness: 36.881, scaled fitness: 36.881\n",
      "gaft.ConsoleOutput   INFO     Generation: 13, best fitness: 36.881, scaled fitness: 36.881\n",
      "gaft.ConsoleOutput   INFO     Generation: 14, best fitness: 36.881, scaled fitness: 36.881\n",
      "gaft.ConsoleOutput   INFO     Generation: 15, best fitness: 36.881, scaled fitness: 36.881\n",
      "gaft.ConsoleOutput   INFO     Generation: 16, best fitness: 36.881, scaled fitness: 36.881\n",
      "gaft.ConsoleOutput   INFO     Generation: 17, best fitness: 36.881, scaled fitness: 36.881\n",
      "gaft.ConsoleOutput   INFO     Generation: 18, best fitness: 36.881, scaled fitness: 36.881\n",
      "gaft.ConsoleOutput   INFO     Generation: 19, best fitness: 36.881, scaled fitness: 36.881\n",
      "gaft.ConsoleOutput   INFO     Generation: 20, best fitness: 36.881, scaled fitness: 36.881\n",
      "gaft.ConsoleOutput   INFO     Generation: 21, best fitness: 36.881, scaled fitness: 36.881\n",
      "gaft.ConsoleOutput   INFO     Generation: 22, best fitness: 36.881, scaled fitness: 36.881\n",
      "gaft.ConsoleOutput   INFO     Generation: 23, best fitness: 36.881, scaled fitness: 36.881\n",
      "gaft.ConsoleOutput   INFO     Generation: 24, best fitness: 36.926, scaled fitness: 36.926\n",
      "gaft.ConsoleOutput   INFO     Generation: 25, best fitness: 36.926, scaled fitness: 36.926\n",
      "gaft.ConsoleOutput   INFO     Generation: 26, best fitness: 36.926, scaled fitness: 36.926\n",
      "gaft.ConsoleOutput   INFO     Generation: 27, best fitness: 36.926, scaled fitness: 36.926\n",
      "gaft.ConsoleOutput   INFO     Generation: 28, best fitness: 38.186, scaled fitness: 38.186\n",
      "gaft.ConsoleOutput   INFO     Generation: 29, best fitness: 38.186, scaled fitness: 38.186\n",
      "gaft.ConsoleOutput   INFO     Generation: 30, best fitness: 38.224, scaled fitness: 38.224\n",
      "gaft.ConsoleOutput   INFO     Generation: 31, best fitness: 38.224, scaled fitness: 38.224\n",
      "gaft.ConsoleOutput   INFO     Generation: 32, best fitness: 38.224, scaled fitness: 38.224\n",
      "gaft.ConsoleOutput   INFO     Generation: 33, best fitness: 38.224, scaled fitness: 38.224\n",
      "gaft.ConsoleOutput   INFO     Generation: 34, best fitness: 38.224, scaled fitness: 38.224\n",
      "gaft.ConsoleOutput   INFO     Generation: 35, best fitness: 38.224, scaled fitness: 38.224\n",
      "gaft.ConsoleOutput   INFO     Generation: 36, best fitness: 38.224, scaled fitness: 38.224\n",
      "gaft.ConsoleOutput   INFO     Generation: 37, best fitness: 38.224, scaled fitness: 38.224\n",
      "gaft.ConsoleOutput   INFO     Generation: 38, best fitness: 38.224, scaled fitness: 38.224\n",
      "gaft.ConsoleOutput   INFO     Generation: 39, best fitness: 38.224, scaled fitness: 38.224\n",
      "gaft.ConsoleOutput   INFO     Generation: 40, best fitness: 38.224, scaled fitness: 38.224\n",
      "gaft.ConsoleOutput   INFO     Generation: 41, best fitness: 38.224, scaled fitness: 38.224\n",
      "gaft.ConsoleOutput   INFO     Generation: 42, best fitness: 38.224, scaled fitness: 38.224\n",
      "gaft.ConsoleOutput   INFO     Generation: 43, best fitness: 38.224, scaled fitness: 38.224\n",
      "gaft.ConsoleOutput   INFO     Generation: 44, best fitness: 38.224, scaled fitness: 38.224\n",
      "gaft.ConsoleOutput   INFO     Generation: 45, best fitness: 38.224, scaled fitness: 38.224\n",
      "gaft.ConsoleOutput   INFO     Generation: 46, best fitness: 38.224, scaled fitness: 38.224\n",
      "gaft.ConsoleOutput   INFO     Generation: 47, best fitness: 38.224, scaled fitness: 38.224\n",
      "gaft.ConsoleOutput   INFO     Generation: 48, best fitness: 38.224, scaled fitness: 38.224\n",
      "gaft.ConsoleOutput   INFO     Generation: 49, best fitness: 38.224, scaled fitness: 38.224\n",
      "gaft.ConsoleOutput   INFO     Generation: 50, best fitness: 38.224, scaled fitness: 38.224\n",
      "gaft.ConsoleOutput   INFO     Generation: 51, best fitness: 38.224, scaled fitness: 38.224\n",
      "gaft.ConsoleOutput   INFO     Generation: 52, best fitness: 38.224, scaled fitness: 38.224\n",
      "gaft.ConsoleOutput   INFO     Generation: 53, best fitness: 38.224, scaled fitness: 38.224\n",
      "gaft.ConsoleOutput   INFO     Generation: 54, best fitness: 38.224, scaled fitness: 38.224\n",
      "gaft.ConsoleOutput   INFO     Generation: 55, best fitness: 38.224, scaled fitness: 38.224\n",
      "gaft.ConsoleOutput   INFO     Generation: 56, best fitness: 38.408, scaled fitness: 38.408\n",
      "gaft.ConsoleOutput   INFO     Generation: 57, best fitness: 38.408, scaled fitness: 38.408\n",
      "gaft.ConsoleOutput   INFO     Generation: 58, best fitness: 38.408, scaled fitness: 38.408\n",
      "gaft.ConsoleOutput   INFO     Generation: 59, best fitness: 38.752, scaled fitness: 38.752\n",
      "gaft.ConsoleOutput   INFO     Generation: 60, best fitness: 38.752, scaled fitness: 38.752\n",
      "gaft.ConsoleOutput   INFO     Generation: 61, best fitness: 38.752, scaled fitness: 38.752\n",
      "gaft.ConsoleOutput   INFO     Generation: 62, best fitness: 38.752, scaled fitness: 38.752\n",
      "gaft.ConsoleOutput   INFO     Generation: 63, best fitness: 38.752, scaled fitness: 38.752\n",
      "gaft.ConsoleOutput   INFO     Generation: 64, best fitness: 38.752, scaled fitness: 38.752\n",
      "gaft.ConsoleOutput   INFO     Generation: 65, best fitness: 38.752, scaled fitness: 38.752\n",
      "gaft.ConsoleOutput   INFO     Generation: 66, best fitness: 38.752, scaled fitness: 38.752\n",
      "gaft.ConsoleOutput   INFO     Generation: 67, best fitness: 38.752, scaled fitness: 38.752\n",
      "gaft.ConsoleOutput   INFO     Generation: 68, best fitness: 38.752, scaled fitness: 38.752\n",
      "gaft.ConsoleOutput   INFO     Generation: 69, best fitness: 38.752, scaled fitness: 38.752\n",
      "gaft.ConsoleOutput   INFO     Generation: 70, best fitness: 38.752, scaled fitness: 38.752\n",
      "gaft.ConsoleOutput   INFO     Optimal solution: ([11.61522216796875, 5.72529296875], 38.751975050233895)\n",
      "gaft.FitnessStore   INFO     Best fitness values are written to best_fit.py\n"
     ]
    }
   ],
   "source": [
    "from gaft import GAEngine\n",
    "from gaft.components import BinaryIndividual\n",
    "from gaft.components import Population\n",
    "from gaft.operators import *\n",
    "from gaft.analysis.fitness_store import FitnessStore\n",
    "from gaft.analysis.console_output import ConsoleOutput\n",
    "\n",
    "import os\n",
    "from math import sin, cos, pi, exp\n",
    "import numpy as np\n",
    "\n",
    "# Define Generation\n",
    "generation = 70\n",
    "\n",
    "# Define Population and the Constraints\n",
    "population_size = 50\n",
    "indv_template = BinaryIndividual(ranges = [(-3, 12.1), (4.1, 5.8)], eps = 0.001)\n",
    "population = Population(indv_template = indv_template, size = population_size).init()\n",
    "\n",
    "# Define Genetic Operators\n",
    "## Selection : RouletteWheelSelection, TournamentSelection, LinearRankingSelection, ExpotentialRankingSelection\n",
    "selection = RouletteWheelSelection()\n",
    "\n",
    "## Crossover\n",
    "### pc : probability of crossover(usually between 0.25 - 1.0)\n",
    "### pe : gene exchange probability\n",
    "crossover = UniformCrossover(pc=0.8, pe=0.5)\n",
    "\n",
    "## Mutate\n",
    "### pm : The probability of mutation (usually between 0.001 ~ 0.1)\n",
    "### pbm : The probability of big mutation, usually more than 5 times bigger than pm\n",
    "### alpha : intensive factor\n",
    "mutation = FlipBitBigMutation(pm=0.1, pbm=0.55, alpha=0.6)\n",
    "\n",
    "# Construct GA Engine\n",
    "engine = GAEngine(population=population, \n",
    "                  selection=selection,\n",
    "                  crossover=crossover, \n",
    "                  mutation=mutation,\n",
    "                  analysis=[ConsoleOutput, FitnessStore])\n",
    "\n",
    "# Define fitness function.\n",
    "@engine.fitness_register\n",
    "def fitness(indv):\n",
    "    x1, x2 = indv.solution\n",
    "    formula = 21.5 + x1*sin(4*pi*x1) + x2*sin(20*pi*x2)\n",
    "    return formula\n",
    "\n",
    "# Best Fitness values are export to best_fit.py\n",
    "engine.run(ng = generation)"
   ]
  },
  {
   "cell_type": "markdown",
   "metadata": {},
   "source": [
    "### Evolution Curve"
   ]
  },
  {
   "cell_type": "code",
   "execution_count": 51,
   "metadata": {
    "scrolled": true
   },
   "outputs": [
    {
     "data": {
      "image/png": "[encoded data removed]",
      "text/plain": [
       "<matplotlib.figure.Figure at 0x112a89208>"
      ]
     },
     "metadata": {},
     "output_type": "display_data"
    }
   ],
   "source": [
    "import matplotlib.pyplot as plt\n",
    "from best_fit import best_fit\n",
    "\n",
    "steps, variants, fits = list(zip(*best_fit))\n",
    "best_step, best_v, best_f = steps[-1], variants[-1], fits[-1]\n",
    "\n",
    "fig = plt.figure()\n",
    "ax = fig.add_subplot(111)\n",
    "ax.plot(steps, fits)\n",
    "ax.set_xlabel('Generation')\n",
    "ax.set_ylabel('Fitness')\n",
    "\n",
    "# Plot the Maximum\n",
    "ax.scatter([best_step], [best_f], facecolor='r')\n",
    "ax.annotate(s='x : [{:.6f}, {:.6f}]\\ny : {:.6f}'.format(*best_v, best_f),\n",
    "                                                     xy=(best_step, best_f),\n",
    "                                                     xytext=(best_step, best_f-0.5))\n",
    "plt.title(\"Genetic Algorithm\\nPopulation : \" + str(population_size))\n",
    "plt.show()"
   ]
  },
  {
   "cell_type": "markdown",
   "metadata": {},
   "source": [
    "### The Surface"
   ]
  },
  {
   "cell_type": "code",
   "execution_count": 52,
   "metadata": {
    "scrolled": false
   },
   "outputs": [
    {
     "name": "stderr",
     "output_type": "stream",
     "text": [
      "100%|██████████| 70/70 [00:34<00:00,  2.00it/s]\n"
     ]
    }
   ],
   "source": [
    "import mpl_toolkits.mplot3d\n",
    "from tqdm import tqdm\n",
    "\n",
    "ctr = 0\n",
    "\n",
    "for i, (x, y), z in tqdm(best_fit):\n",
    "    fig = plt.figure(figsize=(12, 8))\n",
    "    ax = fig.add_subplot(111, projection='3d')\n",
    "\n",
    "    ax.scatter([x], [y], [z], zorder=99, c='r', s=100)\n",
    "\n",
    "    x, y = np.mgrid[-4:13:100j, 4:6:100j]\n",
    "    z = 21.5+x*np.sin(4*np.pi*x) + y*np.sin(20*np.pi*y)\n",
    "    ax.plot_surface(x, y, z, rstride=2, cstride=2, cmap=plt.cm.bone_r)\n",
    "\n",
    "    ax.set_xlabel('X')\n",
    "    ax.set_ylabel('Y')\n",
    "    ax.set_zlabel('Z')\n",
    "\n",
    "    if not os.path.exists('./surfaces'):\n",
    "        os.mkdir('./surfaces')\n",
    "    fig.savefig('./surfaces/{}.png'.format(i))\n",
    "    ctr += 1\n",
    "    plt.close(fig)"
   ]
  },
  {
   "cell_type": "markdown",
   "metadata": {},
   "source": [
    "### Observe the Effect of Population"
   ]
  },
  {
   "cell_type": "markdown",
   "metadata": {},
   "source": [
    "# Simulated Annealing (SA)"
   ]
  },
  {
   "cell_type": "code",
   "execution_count": 43,
   "metadata": {},
   "outputs": [
    {
     "name": "stdout",
     "output_type": "stream",
     "text": [
      "Best Solution :  31.5702384597\n"
     ]
    },
    {
     "data": {
      "image/png": "[encoded data removed]",
      "text/plain": [
       "<matplotlib.figure.Figure at 0x108da3278>"
      ]
     },
     "metadata": {},
     "output_type": "display_data"
    }
   ],
   "source": [
    "# Using Hill Climbing Algorithm(HC) to find the maximum value of the specific function in the constraint area. \n",
    "import random\n",
    "import numpy as np\n",
    "import matplotlib.pyplot as plt\n",
    "\n",
    "def random_move(x, y):\n",
    "    ''' \n",
    "    Random move around the current point\n",
    "    '''\n",
    "    x = (random.uniform(0.0001, 0.9999) - 0.5) * 0.1 + x\n",
    "    y = (random.uniform(0.0001, 0.9999) - 0.5) * 0.1 + y\n",
    "    return x, y\n",
    "\n",
    "def check_constraints(x, y):\n",
    "    '''\n",
    "    Check whether the points are located in the constraints or not\n",
    "    '''\n",
    "    return True if -3 <= x <= 12.1 and 4.1 <= y <= 5.8 else False\n",
    " \n",
    "def optimizing_function(x, y, temp, length, outctr):\n",
    "    '''\n",
    "    Setting the optimizing function\n",
    "    '''\n",
    "    result = 21.5 + x*np.sin(4*np.pi*x) + y*np.sin(20*np.pi*y)\n",
    "    return {\"outctr\" : outctr, \"x\": x, \"y\" : y, \"temp\" : temp, \"length\" : length, \"result\" : result}\n",
    "\n",
    "def boltzman_probability(next_result, current_result, temp):\n",
    "    dE = next_result - current_result\n",
    "    if dE >= 0:\n",
    "        prob = 1\n",
    "    else:\n",
    "        prob = np.exp(-dE / temp)\n",
    "    return prob\n",
    "\n",
    "def SimulatedAnnealing(x, y, temp, minTemp, coolingRate, length):\n",
    "    '''\n",
    "    Implement SimulatedAnnealing\n",
    "\n",
    "    Returns:\n",
    "        iteration: record every trials that have been explored\n",
    "        best_iteration: record the trails that have improved the value\n",
    "    '''\n",
    "\n",
    "    ctr = 1\n",
    "    out_ctr = 1\n",
    "\n",
    "    iteration = []\n",
    "    best_iteration = []\n",
    "\n",
    "    current_state = optimizing_function(x, y, temp, 1, out_ctr)\n",
    "    iteration.append(current_state)\n",
    "    best_iteration.append(current_state)\n",
    "    best_result = best_iteration[-1][\"result\"]\n",
    "\n",
    "    while minTemp < temp:\n",
    "        while ctr <= length:\n",
    "            while not check_constraints(x, y):\n",
    "                new_x, new_y = random_move(x, y)\n",
    "                if check_constraints(new_x, new_y): \n",
    "                    x, y = new_x, new_y\n",
    "                    break\n",
    "            \n",
    "            next_state = optimizing_function(x, y, temp, ctr, out_ctr)\n",
    "            iteration.append(next_state)\n",
    "\n",
    "            prob = boltzman_probability(next_state[\"result\"], current_state[\"result\"], temp)\n",
    "            prob_accept = random.choice([1] * int(prob*100) + [0] * int(100 - (prob*100)))\n",
    "            if prob == 1 or prob_accept == 1:\n",
    "                if next_state[\"result\"] > best_result:\n",
    "                    best_iteration.append(next_state) \n",
    "                    best_result = best_iteration[-1][\"result\"]\n",
    "                    print(\"Best_so_far\", next_state)\n",
    "                current_state = next_state\n",
    "                \n",
    "            x, y = random_move(x, y)\n",
    "            ctr += 1\n",
    "            out_ctr += 1\n",
    "        ctr = 1\n",
    "        temp = temp * coolingRate\n",
    "\n",
    "    return best_iteration, iteration\n",
    "\n",
    "# Main Function\n",
    "## Random start at the point in the constraint area\n",
    "initial_x, initial_y = {random.uniform(-3,  12.1), random.uniform(4.1, 5.8)}\n",
    "temp = 100\n",
    "minTemp = 1\n",
    "coolingRate = 0.99\n",
    "length = 100\n",
    "best_solution, iteration = SimulatedAnnealing(initial_x, initial_y, temp, minTemp, coolingRate, length)\n",
    "\n",
    "#print(iteration)\n",
    "print(\"Best Solution : \", best_solution[-1][\"result\"])\n",
    "\n",
    "plt.plot(range(len(iteration)), [item['result'] for item in iteration], label = \"Trials\")\n",
    "plt.plot([item['outctr'] for item in best_solution], [item['result'] for item in best_solution], '.r-', label = \"Best_so_far\")\n",
    "plt.annotate(s = 'x : [{:.6f}, {:.6f}]\\ny : {:.6f}'.format(best_solution[-1][\"x\"], best_solution[-1][\"y\"], best_solution[-1][\"result\"]), xy = (best_solution[-1][\"outctr\"], best_solution[-1][\"result\"]), xytext=(best_solution[-1][\"outctr\"], best_solution[-1][\"result\"]-3))\n",
    "plt.title(\"Simulated Annealing\")\n",
    "plt.legend(loc='lower right')\n",
    "plt.show()\n",
    "\n",
    "# Restart if it doesn't print out anything"
   ]
  },
  {
   "cell_type": "markdown",
   "metadata": {},
   "source": [
    "# Hill Climbing"
   ]
  },
  {
   "cell_type": "code",
   "execution_count": 12,
   "metadata": {},
   "outputs": [
    {
     "name": "stdout",
     "output_type": "stream",
     "text": [
      "Best Solution :  34.8390396765\n"
     ]
    },
    {
     "data": {
      "image/png": "[encoded data removed]",
      "text/plain": [
       "<matplotlib.figure.Figure at 0x10e43c240>"
      ]
     },
     "metadata": {},
     "output_type": "display_data"
    }
   ],
   "source": [
    "# Using Hill Climbing Algorithm(HC) to find the maximum value of the specific function in the constraint area. \n",
    "import random\n",
    "import numpy as np\n",
    "import matplotlib.pyplot as plt\n",
    "\n",
    "def random_move(x, y):\n",
    "    ''' \n",
    "    Random move around the current point\n",
    "    '''\n",
    "    x = (random.uniform(0,0.9999)-0.5)*0.1 + x\n",
    "    y = (random.uniform(0,0.9999)-0.5)*0.1 + y\n",
    "    return x, y\n",
    "\n",
    "def check_constraints(x, y):\n",
    "    '''\n",
    "    Check whether the points are located in the constraints or not\n",
    "    '''\n",
    "    return True if -3 <= x <= 12.1 and 4.1 <= y <= 5.8 else False\n",
    " \n",
    "def optimizing_function(ctr, x, y):\n",
    "    '''\n",
    "    Setting the optimizing function\n",
    "    '''\n",
    "    result = 21.5 + x*np.sin(4*np.pi*x) + y*np.sin(20*np.pi*y)\n",
    "    return {\"ctr\" : ctr, \"x\": x, \"y\" : y, \"result\" : result}\n",
    "\n",
    "def HillClimbing(x, y, threshold, Function):\n",
    "    '''\n",
    "    Implement Hill Climbing\n",
    "\n",
    "    Returns:\n",
    "        iteration: record every trials that have been explored\n",
    "        best_iteration: record the trails that have improved the value\n",
    "    '''\n",
    "    ctr = 1\n",
    "    iteration = []\n",
    "    best_iteration = []\n",
    "\n",
    "    # Random Start\n",
    "    current_state = optimizing_function(ctr, x, y)\n",
    "    iteration.append(current_state)\n",
    "    best_iteration.append(current_state)\n",
    "\n",
    "    # Start explore the neighbor of the point\n",
    "    while ctr <= threshold:\n",
    "        while not check_constraints(x, y):\n",
    "            x, y = random_move(x, y)\n",
    "            \n",
    "        next_state = optimizing_function(ctr, x, y)\n",
    "        iteration.append(next_state)\n",
    "\n",
    "        # Update the best_so_far if the value is improved\n",
    "        if next_state[\"result\"] > current_state[\"result\"]:\n",
    "            best_iteration.append(next_state)\n",
    "            #print(\"Best_so_far\", next_state)\n",
    "            current_state = next_state\n",
    "        \n",
    "        # Try another neighbor\n",
    "        x, y = random_move(x, y)\n",
    "        ctr += 1\n",
    "    return best_iteration, iteration\n",
    "\n",
    "# Main Function\n",
    "## Random start at the point in the constraint area\n",
    "initial_x, initial_y = {random.uniform(-3,  12.1), random.uniform(4.1, 5.8)}\n",
    "best_solution, iteration = HillClimbing(initial_x, initial_y, 10000, optimizing_function)\n",
    "print(\"Best Solution : \", best_solution[-1][\"result\"])\n",
    "\n",
    "# Plot the iteration and best_iteration\n",
    "plt.plot(range(len(iteration)), [item['result'] for item in iteration], label = \"Trials\")\n",
    "plt.plot([item['ctr'] for item in best_solution], [item['result'] for item in best_solution], '.r-', label = \"Best_so_far\")\n",
    "plt.annotate(s = 'x : [{:.6f}, {:.6f}]\\ny : {:.6f}'.format(best_solution[-1][\"x\"], best_solution[-1][\"y\"], best_solution[-1][\"result\"]), xy = (best_solution[-1][\"ctr\"], best_solution[-1][\"result\"]), xytext=(best_solution[-1][\"ctr\"], best_solution[-1][\"result\"]-5))\n",
    "plt.title(\"Hill Climbing\")\n",
    "plt.legend(loc='lower right')\n",
    "plt.show()\n",
    "\n",
    "# Restart if it doesn't print out anything"
   ]
  }
 ],
 "metadata": {
  "kernelspec": {
   "display_name": "Python 3",
   "language": "python",
   "name": "python3"
  },
  "language_info": {
   "codemirror_mode": {
    "name": "ipython",
    "version": 3
   },
   "file_extension": ".py",
   "mimetype": "text/x-python",
   "name": "python",
   "nbconvert_exporter": "python",
   "pygments_lexer": "ipython3",
   "version": "3.6.3"
  }
 },
 "nbformat": 4,
 "nbformat_minor": 2
}
